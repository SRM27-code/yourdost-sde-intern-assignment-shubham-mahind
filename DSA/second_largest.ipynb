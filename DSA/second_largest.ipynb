{
  "nbformat": 4,
  "nbformat_minor": 0,
  "metadata": {
    "colab": {
      "provenance": []
    },
    "kernelspec": {
      "name": "python3",
      "display_name": "Python 3"
    },
    "language_info": {
      "name": "python"
    }
  },
  "cells": [
    {
      "cell_type": "code",
      "execution_count": 1,
      "metadata": {
        "colab": {
          "base_uri": "https://localhost:8080/"
        },
        "id": "iwBUkVzGPAZ8",
        "outputId": "7aaa3e0f-1ae9-4bbb-a771-6d8b481d11e6"
      },
      "outputs": [
        {
          "output_type": "stream",
          "name": "stdout",
          "text": [
            "Input: [3, 5, 2, 5, 6, 6, 1]\n",
            "Output: 5\n",
            "Input: [7, 7, 7]\n",
            "Output: -1\n"
          ]
        }
      ],
      "source": [
        "\"\"\"\n",
        "YourDOST SDE Intern Assignment\n",
        "Part 1 - DSA Problem\n",
        "Author: Shubham Mahind\n",
        "\n",
        "Problem:\n",
        "---------\n",
        "Given an array of integers, return the second largest unique number in the array.\n",
        "If it doesn’t exist, return -1.\n",
        "\n",
        "Example:\n",
        "Input: [3, 5, 2, 5, 6, 6, 1]\n",
        "Output: 5\n",
        "\n",
        "Input: [7, 7, 7]\n",
        "Output: -1\n",
        "\n",
        "Approach:\n",
        "----------\n",
        "1. Convert the list to a set to remove duplicates.\n",
        "2. If fewer than 2 unique numbers exist, return -1.\n",
        "3. Otherwise, sort the unique numbers in descending order and return the second element.\n",
        "\n",
        "Time Complexity: O(n log n)\n",
        "Space Complexity: O(n)\n",
        "\"\"\"\n",
        "\n",
        "def second_largest_unique(nums):\n",
        "    unique_nums = sorted(set(nums), reverse=True)\n",
        "    return unique_nums[1] if len(unique_nums) >= 2 else -1\n",
        "\n",
        "\n",
        "# ---------- Sample Input / Output ----------\n",
        "if __name__ == \"__main__\":\n",
        "    print(\"Input: [3, 5, 2, 5, 6, 6, 1]\")\n",
        "    print(\"Output:\", second_largest_unique([3, 5, 2, 5, 6, 6, 1]))  # Output: 5\n",
        "\n",
        "    print(\"Input: [7, 7, 7]\")\n",
        "    print(\"Output:\", second_largest_unique([7, 7, 7]))  # Output: -1\n"
      ]
    }
  ]
}